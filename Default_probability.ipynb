{
 "cells": [
  {
   "cell_type": "code",
   "execution_count": null,
   "id": "7f87ecf9-c75d-4106-902a-b0260f0c7a52",
   "metadata": {},
   "outputs": [],
   "source": [
    "import pandas as pd\n",
    "import numpy as np"
   ]
  },
  {
   "cell_type": "code",
   "execution_count": null,
   "id": "fc260f98-1b06-4912-b3a1-4355c48c32be",
   "metadata": {},
   "outputs": [],
   "source": [
    "credit = pd.read_csv(r\"C:\\Users\\chand\\Documents\\SQL data\\Python Data\\Default Credit data.csv\")"
   ]
  },
  {
   "cell_type": "code",
   "execution_count": null,
   "id": "fcac7083-d805-4e60-918f-b8488e805a78",
   "metadata": {},
   "outputs": [],
   "source": [
    "credit.shape"
   ]
  },
  {
   "cell_type": "code",
   "execution_count": null,
   "id": "733f334c-9d4a-430c-8e8e-11efbb6067b0",
   "metadata": {
    "scrolled": true
   },
   "outputs": [],
   "source": [
    "pd.set_option('display.max_columns', None)\n",
    "\n"
   ]
  },
  {
   "cell_type": "code",
   "execution_count": null,
   "id": "f7a0d3bd-7ebe-4337-8849-fe343d39f3d9",
   "metadata": {},
   "outputs": [],
   "source": [
    "print(credit.select_dtypes(include=['object']).dtypes)\n",
    "\n",
    "print(credit.select_dtypes(include=['number']).dtypes)\n"
   ]
  },
  {
   "cell_type": "code",
   "execution_count": null,
   "id": "80cade3d-4fd9-4a20-8007-e92d46617186",
   "metadata": {},
   "outputs": [],
   "source": [
    "from sklearn.preprocessing import OneHotEncoder\n",
    "encoder = OneHotEncoder(sparse_output=False, drop='first')  # drop='first' removes redundant categories\n",
    "\n",
    "encoded_columns = encoder.fit_transform(credit[['home_ownership', 'purpose']])\n",
    "\n",
    "encoded_df = pd.DataFrame(encoded_columns, columns=encoder.get_feature_names_out(['home_ownership', 'purpose']))\n",
    "\n",
    "credit = pd.concat([credit.drop(columns=['home_ownership', 'purpose']), encoded_df], axis=1)\n",
    "\n",
    "print(credit)\n"
   ]
  },
  {
   "cell_type": "code",
   "execution_count": null,
   "id": "60b25615-bed1-4af2-81c5-ed662987ad1a",
   "metadata": {},
   "outputs": [],
   "source": [
    "from sklearn.preprocessing import StandardScaler"
   ]
  },
  {
   "cell_type": "code",
   "execution_count": null,
   "id": "a9609818-3b40-480d-bdc6-756cd6ad8b76",
   "metadata": {},
   "outputs": [],
   "source": [
    "credit.drop(columns=['id', 'zip_code', 'addr_state'], inplace=True)"
   ]
  },
  {
   "cell_type": "code",
   "execution_count": null,
   "id": "9ae27ef6-d2c9-4c44-a305-89030305426c",
   "metadata": {},
   "outputs": [],
   "source": [
    "pre_scaled_data = credit.drop(columns=['loan_status'])"
   ]
  },
  {
   "cell_type": "code",
   "execution_count": null,
   "id": "0eae1beb-1cbe-459e-8336-56e1dc24be30",
   "metadata": {},
   "outputs": [],
   "source": [
    "scaler = StandardScaler()\n",
    "scaled_data = scaler.fit_transform(pre_scaled_data)"
   ]
  },
  {
   "cell_type": "code",
   "execution_count": null,
   "id": "6912b0ca-a4a9-4626-9d4f-909dbd88cae5",
   "metadata": {
    "scrolled": true
   },
   "outputs": [],
   "source": [
    "from sklearn.impute import SimpleImputer\n",
    "from sklearn.decomposition import PCA\n",
    "import numpy as np\n",
    "\n",
    "imputer = SimpleImputer(strategy='mean')\n",
    "scaled_data_cleaned = imputer.fit_transform(scaled_data)\n",
    "\n",
    "pca = PCA()\n",
    "X_pca_pre = pca.fit_transform(scaled_data_cleaned)\n",
    "\n",
    "cumulative_explained_variance = np.cumsum(pca.explained_variance_ratio_)\n",
    "n_components = np.argmax(cumulative_explained_variance >= 0.95) + 1\n",
    "\n",
    "pca = PCA(n_components=n_components)\n",
    "X_pca = pca.fit_transform(scaled_data_cleaned)\n",
    "\n",
    "print(f\"Number of components: {n_components}\")\n",
    "print(f\"Shape of PCA-transformed data: {X_pca.shape}\")\n"
   ]
  },
  {
   "cell_type": "code",
   "execution_count": null,
   "id": "f5153e43-8199-4e1b-8ea3-c67dfb7ad243",
   "metadata": {},
   "outputs": [],
   "source": [
    "from sklearn.model_selection import train_test_split\n",
    "from sklearn.linear_model import LogisticRegression\n",
    "from sklearn.ensemble import RandomForestClassifier\n",
    "from xgboost import XGBClassifier\n",
    "from sklearn.metrics import accuracy_score, classification_report"
   ]
  },
  {
   "cell_type": "code",
   "execution_count": null,
   "id": "9a021966-e9b5-4390-baa5-0763f9b1aada",
   "metadata": {},
   "outputs": [],
   "source": [
    "credit = credit.dropna(subset=['loan_status'])\n",
    "\n",
    "y = credit['loan_status']\n"
   ]
  },
  {
   "cell_type": "code",
   "execution_count": null,
   "id": "1267d748-d7be-4a6b-b99a-f684e93958e5",
   "metadata": {},
   "outputs": [],
   "source": [
    "scaled_data_cleaned = scaled_data_cleaned[credit.index]"
   ]
  },
  {
   "cell_type": "code",
   "execution_count": null,
   "id": "6c616ad0-70a1-48e7-9c1a-a43bbc338fb1",
   "metadata": {},
   "outputs": [],
   "source": [
    "X = X_pca  \n",
    "\n",
    "X_train, X_test, y_train, y_test = train_test_split(X, y, test_size=0.3, random_state=42, stratify=y)\n",
    "\n",
    "log_reg = LogisticRegression(max_iter=1000, random_state=42)\n",
    "log_reg.fit(X_train, y_train)\n",
    "y_pred_log = log_reg.predict(X_test)\n",
    "\n",
    "print(\"Logistic Regression Results:\")\n",
    "print(f\"Accuracy: {accuracy_score(y_test, y_pred_log):.4f}\")\n",
    "print(classification_report(y_test, y_pred_log))\n",
    "\n",
    "rf = RandomForestClassifier(n_estimators=100, random_state=42)\n",
    "rf.fit(X_train, y_train)\n",
    "y_pred_rf = rf.predict(X_test)\n",
    "\n",
    "print(\"\\nRandom Forest Results:\")\n",
    "print(f\"Accuracy: {accuracy_score(y_test, y_pred_rf):.4f}\")\n",
    "print(classification_report(y_test, y_pred_rf))\n",
    "\n",
    "\n",
    "xgb = XGBClassifier(use_label_encoder=False, eval_metric='logloss', random_state=42)\n",
    "xgb.fit(X_train, y_train)\n",
    "y_pred_xgb = xgb.predict(X_test)\n",
    "\n",
    "print(\"\\nXGBoost Results:\")\n",
    "print(f\"Accuracy: {accuracy_score(y_test, y_pred_xgb):.4f}\")\n",
    "print(classification_report(y_test, y_pred_xgb))\n"
   ]
  },
  {
   "cell_type": "code",
   "execution_count": null,
   "id": "752eafb8-73f8-4929-9cbf-98b1d7189cf8",
   "metadata": {},
   "outputs": [],
   "source": [
    "from sklearn.ensemble import VotingClassifier\n",
    "from sklearn.metrics import accuracy_score, classification_report\n",
    "from sklearn.linear_model import LogisticRegression\n",
    "from sklearn.ensemble import RandomForestClassifier\n",
    "from xgboost import XGBClassifier\n",
    "\n",
    "# Step 1: Reinitialize the models\n",
    "log_reg = LogisticRegression(max_iter=1000, random_state=42)\n",
    "rf = RandomForestClassifier(n_estimators=100, random_state=42)\n",
    "xgb = XGBClassifier(use_label_encoder=False, eval_metric='logloss', random_state=42)\n",
    "\n",
    "# Step 2: Create the Voting Classifier (Soft Voting)\n",
    "ensemble = VotingClassifier(\n",
    "    estimators=[('Logistic Regression', log_reg), \n",
    "                ('Random Forest', rf), \n",
    "                ('XGBoost', xgb)],\n",
    "    voting='soft'  # Use 'soft' for probability-based voting\n",
    ")\n",
    "\n",
    "# Step 3: Train the Ensemble\n",
    "ensemble.fit(X_train, y_train)\n",
    "\n",
    "# Step 4: Make Predictions\n",
    "y_pred_ensemble = ensemble.predict(X_test)\n",
    "\n",
    "# Step 5: Evaluate the Ensemble\n",
    "print(\"Ensemble Results:\")\n",
    "print(f\"Accuracy: {accuracy_score(y_test, y_pred_ensemble):.4f}\")\n",
    "print(classification_report(y_test, y_pred_ensemble))\n"
   ]
  },
  {
   "cell_type": "code",
   "execution_count": null,
   "id": "fa673c1a-0efd-4d7e-96e5-b973ee3aecd3",
   "metadata": {},
   "outputs": [],
   "source": []
  },
  {
   "cell_type": "code",
   "execution_count": null,
   "id": "5d26d0f3-95a5-478e-9fc4-5cff0e7ee874",
   "metadata": {},
   "outputs": [],
   "source": []
  }
 ],
 "metadata": {
  "kernelspec": {
   "display_name": "Python 3 (ipykernel)",
   "language": "python",
   "name": "python3"
  },
  "language_info": {
   "codemirror_mode": {
    "name": "ipython",
    "version": 3
   },
   "file_extension": ".py",
   "mimetype": "text/x-python",
   "name": "python",
   "nbconvert_exporter": "python",
   "pygments_lexer": "ipython3",
   "version": "3.12.4"
  }
 },
 "nbformat": 4,
 "nbformat_minor": 5
}
